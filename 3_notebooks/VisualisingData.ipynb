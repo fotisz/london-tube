{
 "cells": [
  {
   "cell_type": "markdown",
   "metadata": {},
   "source": [
    "# Part Two: Visualising Data\n",
    "[Back to Home](index.html)\n",
    "\n",
    "## Introduction\n",
    "\n",
    "This is the second part of the project outputs.\n",
    "\n",
    "Part One dealt with the extraction, manipulating and cleaning\n",
    "of the dataset whereas this notebook utilises Python for visualisation\n",
    "and graph algorithms.\n",
    "\n",
    "The notebook divides into three sections:\n",
    "\n",
    "1. Investigating static visualisations of the graph network of tube stations and travel links\n",
    "2. Using the graph properties of timetables to construct a Journey Planner algorithm and\n",
    "compare this with the offical TfL API query results\n",
    "3. Visualising the spatiotemporal movement of train vehicles across the network over time"
   ]
  },
  {
   "cell_type": "markdown",
   "metadata": {},
   "source": [
    "## Tube Map\n",
    "\n",
    "The London Undergroup map is 86 years old and is considered one of the [great icons of British design](http://www.bbc.co.uk/pressoffice/pressreleases/stories/2006/01_january/27/culture.shtml). Virtually every public\n",
    "transportation map around the world is based upon its original schematic design.\n",
    "\n",
    "It's pretty perfect for easily trying to find out which lines to take and which stations to transfer at to get across London however what it doesn't show, is\n",
    "the relative distances and travel times between each of those stations which can sometimes lead to suboptimal route planning.\n",
    "\n",
    "For example, to get from Paddington to Bond Street, there are two clear (seemingly equidistant) routes on the map; via Baker St or via Notting Hill Gate. As we will explore, they are **not** equidistant and can significantly exacerbate journey time if the wrong route is chosen.\n",
    "\n",
    "To visualise the underground map using the cleaned dataset from Part One, we need the list of stations along with\n",
    "the possible links from each station to another. It's enough to just look at the longest \"inbound\" route for each line because (we would hope) that the \"outbound\" route is identical. This is provided by the [`inbound_graph`](InboundGraph.html) PostgreSQL view.\n",
    "\n",
    "First, create an empty MultiGraph which allows for multiple links between two stations. For instance, Liverpool St to Farringdon is served by three separate lines."
   ]
  },
  {
   "cell_type": "code",
   "execution_count": null,
   "metadata": {},
   "outputs": [],
   "source": [
    "import networkx as nx\n",
    "G = nx.MultiGraph()"
   ]
  },
  {
   "cell_type": "markdown",
   "metadata": {},
   "source": [
    "Now, query the database and add both stations and the edge between them to the graph object."
   ]
  },
  {
   "cell_type": "code",
   "execution_count": null,
   "metadata": {},
   "outputs": [],
   "source": [
    "import psycopg2\n",
    "import psycopg2.extras\n",
    "\n",
    "conn = psycopg2.connect(host=\"localhost\",database=\"londontubepython\", user=\"postgres\", password=\"mysecretpassword\")\n",
    "cur = conn.cursor('server_side_cursor', cursor_factory=psycopg2.extras.DictCursor)\n",
    "cur.execute(\"SELECT * FROM inbound_graph\")\n",
    "\n",
    "# Loop through the dataset adding StopPoints if they don't already exist with an edge for each row\n",
    "for row in cur:\n",
    "    if row['From_StopPointName'] not in G:\n",
    "        G.add_node(row['From_StopPointName'], lon = row['From_Longitude'], lat = row['From_Latitude'])\n",
    "    if row['To_StopPointName'] not in G:\n",
    "        G.add_node(row['To_StopPointName'], lon = row['To_Longitude'], lat = row['To_Latitude'])\n",
    "    G.add_edge(row['From_StopPointName'], row['To_StopPointName'], line = row['Line'])\n",
    "\n",
    "cur.close()\n",
    "conn.close()"
   ]
  },
  {
   "cell_type": "code",
   "execution_count": null,
   "metadata": {},
   "outputs": [],
   "source": [
    "print(nx.info(G))"
   ]
  },
  {
   "cell_type": "markdown",
   "metadata": {},
   "source": [
    "So for the 269 tube stations we're visualising 429 of the links between them (as there are more links by including outbound routes too).\n",
    "\n",
    "Let's start with a simplistic plot of the 250miles of tube network:"
   ]
  },
  {
   "cell_type": "code",
   "execution_count": null,
   "metadata": {},
   "outputs": [],
   "source": [
    "from matplotlib import pyplot as plt\n",
    "from networkx.drawing.nx_agraph import graphviz_layout\n",
    "%matplotlib inline\n",
    "\n",
    "options = {\n",
    "    'width': 1,\n",
    "    'alpha': 0.3,\n",
    "}\n",
    "\n",
    "plt.subplots(figsize=(6,6))\n",
    "nx.draw_networkx_edges(G, pos = nx.spring_layout(G), **options)\n",
    "plt.tight_layout()\n",
    "plt.axis('off');"
   ]
  },
  {
   "cell_type": "markdown",
   "metadata": {},
   "source": [
    "Not exactly an icon of British design though we can see which routes serve multiple lines with the darkness of the edges.\n",
    "\n",
    "Let's change the layout and add some colour."
   ]
  },
  {
   "cell_type": "code",
   "execution_count": null,
   "metadata": {},
   "outputs": [],
   "source": [
    "# Map each Line to TfL's published RBG values\n",
    "line_colours = {\n",
    "        'VIC': (0, 160, 226),\n",
    "        'PIC': (0, 25, 168),\n",
    "        'WAC': (118, 208, 189),\n",
    "        'NTN': (0, 0, 0),\n",
    "        'HAM': (215, 153, 175),\n",
    "        'BAK': (137, 78, 36),\n",
    "        'CIR': (255, 206, 0),\n",
    "        'DIS': (0, 114, 41),\n",
    "        'CEN': (220, 36, 31),\n",
    "        'JUB': (134, 143, 152),\n",
    "        'MET': (117, 16, 86),\n",
    "}\n",
    "# Convert RGB to [0,1] scale\n",
    "line_colours = {line: tuple([x / 255.0 for x in rgb]) for line, rgb in line_colours.items()}\n",
    "\n",
    "options = {\n",
    "    'edges': G.edges(),\n",
    "    'edge_color': [line_colours[data['line']] for u,v,data in G.edges(data=True)],\n",
    "    'width': 1.5,\n",
    "    'alpha': 1,\n",
    "}"
   ]
  },
  {
   "cell_type": "code",
   "execution_count": null,
   "metadata": {},
   "outputs": [],
   "source": [
    "plt.subplots(figsize=(10,10))\n",
    "nx.draw_networkx_edges(G, pos = graphviz_layout(G, prog = 'neato'), **options)\n",
    "plt.tight_layout()\n",
    "plt.axis('off');"
   ]
  },
  {
   "cell_type": "markdown",
   "metadata": {},
   "source": [
    "Even without any station labels can now discern some of the key features of the network.\n",
    "\n",
    "- The top left corner is the Heathrow Airport loop on the Piccadily line\n",
    "- Proximity-wise, that makes the termini clock-wise and to the right Ealing Broadway and West Ruislip\n",
    "- The Circle line shares its route with the Hammersmith and City line on its way to...Hammersmith whilst the Picadilly and Metropolitan lines are the same towards Uxbridge.\n",
    "- The northeastern loop of the Central line out to Woodford and Epping is in the lower right\n",
    "\n",
    "Despite these key features, the layout clearly represents nothing geographic.\n",
    "The Metropolitan line in the top right of the graph is in the North West corner of London so the Jubilee line that joins it will be the Stanmore end. The next intersection along (clockwise) is the Northern line intersecting with the second stop of the Victoria line and therefore must be Stockwell next to Brixton on the completely opposite side of London.\n",
    "\n",
    "Here's the same layout with labels for the stations mentioned:"
   ]
  },
  {
   "cell_type": "code",
   "execution_count": null,
   "metadata": {},
   "outputs": [],
   "source": [
    "nodes_to_label = ['Heathrow Terminals 1-3', 'Ealing Broadway', 'West Ruislip', 'Bank',\n",
    "                  'Hammersmith (Ham & City Line)', 'Uxbridge Station', 'Woodford', 'Epping', 'Amersham',\n",
    "                  'Stanmore', 'Stockwell Station', 'Brixton']\n",
    "\n",
    "options['width'] = 3\n",
    "options['alpha'] = 0.3\n",
    "\n",
    "labels = {}    \n",
    "for node in G.nodes():\n",
    "    if node in nodes_to_label:\n",
    "        labels[node] = node\n",
    "\n",
    "plt.subplots(figsize=(12,8))\n",
    "pos = graphviz_layout(G, prog = 'neato')\n",
    "nx.draw_networkx_edges(G, pos = pos, **options)\n",
    "nx.draw_networkx_labels(G, pos, labels, size = 12, weight = 'heavy')\n",
    "plt.tight_layout()\n",
    "plt.axis('off');"
   ]
  },
  {
   "cell_type": "markdown",
   "metadata": {},
   "source": [
    "The last step would be to add some realism by showing what the famous tube map doesn't show: the actual positions of stations on a map of London. The node positions are redefined as Longitude and Latitude coordinates and plotted against a [Leaflet](http://leafletjs.com/) map of London."
   ]
  },
  {
   "cell_type": "code",
   "execution_count": null,
   "metadata": {},
   "outputs": [],
   "source": [
    "pos = {node: (data['lon'], data['lat']) for node, data in G.nodes(data=True)}\n",
    "\n",
    "import mplleaflet\n",
    "plt.subplots(figsize=(10,10))\n",
    "nx.draw_networkx_edges(G, pos = pos, width = 2., edge_color = options['edge_color'])\n",
    "mplleaflet.display(tiles='cartodb_positron')"
   ]
  },
  {
   "cell_type": "markdown",
   "metadata": {},
   "source": [
    "Here's that infamous section of the network where 30% of people go the wrong way:"
   ]
  },
  {
   "cell_type": "markdown",
   "metadata": {},
   "source": [
    "![](tube_map_pad_bond.png)"
   ]
  },
  {
   "cell_type": "markdown",
   "metadata": {},
   "source": [
    "![](paddington_annotated.png)"
   ]
  },
  {
   "cell_type": "markdown",
   "metadata": {},
   "source": [
    "Now it seems much clearer which route takes 15mins and which takes 8mins!"
   ]
  },
  {
   "cell_type": "markdown",
   "metadata": {},
   "source": [
    "## Journey Planner Algorithm\n",
    "\n",
    "Eyeballing a geographically-accurate map of the network isn't *really* the best way to work out the fastest route from Paddington to Bond Street. The more accurate way would be to weight each edge of our network by the travel time between the two stations and then use a shortest path graph algorithm to find the sequence of edges from station A to station B with the smallest total weight (ie travel time).\n",
    "\n",
    "It's worth noting that despite the misleading name of \"shortest path\", since we don't really care how *far* we travel, we want to weight by time rather than distance to get to our destination the fastest way, not the shortest way.\n",
    "\n",
    "There is one more factor to consider though because modelling the shortest path this way assumes that there is a train ready and waiting to go the moment you want to leave and at every station at which you transfer. With the exception of the Central line in peak hour, this is almost never the case in any transportation network.\n",
    "\n",
    "**Formulation**\n",
    "\n",
    "Instead, we model the tube stations using a time-expanded graph network where each node represents a station-*event* rather than a station. In other words, there is a \"Hyde Park Corner\" node for every arrival and departure of every vehicle into and out of that station. When we lumped WaitTime in with RunTime to create JourneyTime, we simplified the problem to assume that the train's arrival and departure is instantaneous so there's no need to create *both* a departure *and* arrival node.\n",
    "\n",
    "We then we have two types of edges:\n",
    "- Travel Edge: Represents the movement of a train from one station to the next\n",
    "- Stay Edge: Represents waiting at a station for the immediately next train to depart. Effectively these are chained\n",
    "between all successive departures out of a given station throughout the day so that we can wait for any successive train at that station and not just the very next one to leave.\n",
    "\n",
    "This does however assume that there is negligible transfer time within a station (when it actually takes +5mins to walk from the Victoria line to the Metropolitan line at King's Cross).\n",
    "\n"
   ]
  },
  {
   "cell_type": "markdown",
   "metadata": {},
   "source": [
    "Due to the size of the Departures Board, we'll extract the full network timetable just for Monday 15th Jan 2018:"
   ]
  },
  {
   "cell_type": "code",
   "execution_count": null,
   "metadata": {},
   "outputs": [],
   "source": [
    "timetable_date = '2018-01-15'\n",
    "\n",
    "# Placeholder for timetable_date in the table-valued function `departureboard`\n",
    "sqlquery = ('SELECT * FROM departureboard(%s) '\n",
    "            'ORDER BY \"From_StopPointName\", \"DepartureMins_Link\", \"VehicleJourneyCode\" ')"
   ]
  },
  {
   "cell_type": "code",
   "execution_count": null,
   "metadata": {},
   "outputs": [],
   "source": [
    "import networkx as nx\n",
    "import psycopg2\n",
    "import psycopg2.extras"
   ]
  },
  {
   "cell_type": "markdown",
   "metadata": {},
   "source": [
    "Unlike the Tube Map model, we want to model the network using a Directed Graph instead of a Multi Graph because each\n",
    "train is travelling in a specific direction and no vehicle travels the same link at the same time.\n",
    "\n",
    "Looping through each row in the Departure Board query we add a node for each station-vehicle pair. In the case where\n",
    "the station is the terminus, we need to add the arrival node as well as the departure node.\n",
    "\n",
    "The first edge added is simply the train's movement between stations whereas the second edge is the 'stay' edge from that train's arrival to the next train's departure from the same station."
   ]
  },
  {
   "cell_type": "code",
   "execution_count": null,
   "metadata": {},
   "outputs": [],
   "source": [
    "H = nx.DiGraph()\n",
    "\n",
    "from copy import copy\n",
    "prev_row = None\n",
    "\n",
    "conn = psycopg2.connect(host=\"localhost\",database=\"londontubepython\", user=\"postgres\", password=\"mysecretpassword\")\n",
    "cur = conn.cursor('server_side_cursor', cursor_factory=psycopg2.extras.DictCursor)\n",
    "cur.execute(sqlquery, (timetable_date,))\n",
    "\n",
    "for row in cur:\n",
    "    \n",
    "    # Add or update node data for the Departure node in this row\n",
    "    H.add_node(row['VehicleJourneyCode'] + '//' + row['From_StopPointRef'],\n",
    "               VehicleJourneyCode = row['VehicleJourneyCode'],\n",
    "               StopPointName = row['From_StopPointName'],\n",
    "               MinuteOfDay = row['DepartureMins_Link'])\n",
    "    \n",
    "    # If this is the last stop for a train then add or update\n",
    "    # node data for the Arrival node in this row\n",
    "    if row['Flag_LastStop'] == True:\n",
    "        H.add_node(row['VehicleJourneyCode'] + '//' + row['To_StopPointRef'],\n",
    "               VehicleJourneyCode = row['VehicleJourneyCode'],\n",
    "               StopPointName = row['To_StopPointName'],\n",
    "               MinuteOfDay = row['ArrivalMins_Link'])\n",
    "    \n",
    "    # Create Travel edge\n",
    "    H.add_edge(row['VehicleJourneyCode'] + '//' + row['From_StopPointRef'],\n",
    "               row['VehicleJourneyCode'] + '//' + row['To_StopPointRef'],\n",
    "               movement = row['Line'],\n",
    "               # Edge weight is the travel time between stations\n",
    "               cost = row['JourneyTime'])\n",
    "    \n",
    "    # Create Stay edge from the previous departure row provided it's the same station\n",
    "    # NB: The result set is ordered by Departure Station, Departure Time so every station's\n",
    "    #     departures are grouped and ordered together.\n",
    "    if prev_row is not None and prev_row['From_StopPointName'] == row['From_StopPointName']:\n",
    "        H.add_edge(prev_row['VehicleJourneyCode'] + '//' + prev_row['From_StopPointRef'],\n",
    "                   row['VehicleJourneyCode'] + '//' + row['From_StopPointRef'],\n",
    "                   movement = 'Stay',\n",
    "                   # Edge weight is the waiting time between departures\n",
    "                   cost = row['DepartureMins_Link'] - prev_row['DepartureMins_Link'])\n",
    "    \n",
    "    prev_row = copy(row)\n",
    "    \n",
    "\n",
    "cur.close()\n",
    "conn.close()"
   ]
  },
  {
   "cell_type": "markdown",
   "metadata": {},
   "source": [
    "We're now ready to query the timetable.\n",
    "\n",
    "The query format contains the start and end stations with the departure time in minutes after midnight.\n",
    "Once that's provided, we can modify the graph with two 'helper' nodes ('Start and 'End') which signify the origin and destination\n",
    "of the query. These are then linked to each of their station's vehicle departures and arrivals respectively.\n",
    "Currently these are matched partially using an `in` clause such that querying `Liverpool St` matches any node `Liverpool St...` and while this isn't very robust it allows for shortening station names.\n",
    "\n",
    "We can also specify whether the intention is to leave from the origin after the specified `time` or to arrive at the destination prior to `time` with the `leave_after` parameter."
   ]
  },
  {
   "cell_type": "code",
   "execution_count": null,
   "metadata": {},
   "outputs": [],
   "source": [
    "path_query = {\n",
    "    'From_StopPointName': 'Liverpool St', # Actual station name is Liverpool Street Station\n",
    "    'To_StopPointName': 'Hyde Park', # Actual station name is Hyde Park Corner\n",
    "    'time': 23 * 60, # Provided in minutes past midnight\n",
    "    'leave_after': True # Leave after or Arrive before\n",
    "}"
   ]
  },
  {
   "cell_type": "code",
   "execution_count": null,
   "metadata": {},
   "outputs": [],
   "source": [
    "def setup_shortest_path(path_query):\n",
    "    \"\"\"\n",
    "        Add the Start and End nodes to the network for the given query\n",
    "        Connect them to the departures and arrivals for the relevant stations\n",
    "    \"\"\"\n",
    "    \n",
    "    # For \"Leave After\" query, assign the leaving time to the start node and\n",
    "    # leave arriving time as unknown\n",
    "    if path_query['leave_after'] == True:\n",
    "        H.add_node('Start', StopPointName = path_query['From_StopPointName'],\n",
    "                   MinuteOfDay = path_query['time'], movement = 'Departure')\n",
    "        H.add_node('End', StopPointName = path_query['To_StopPointName'],\n",
    "                   MinuteOfDay = None, movement = 'Arrival')\n",
    "    \n",
    "    # For \"Arrive Before\" query, assign the arriving time to the end node and\n",
    "    # leave departure time as unknown\n",
    "    else:\n",
    "        H.add_node('Start', StopPointName = path_query['From_StopPointName'],\n",
    "                   MinuteOfDay = None, movement = 'Departure')\n",
    "        H.add_node('End', StopPointName = path_query['To_StopPointName'],\n",
    "                   MinuteOfDay = path_query['time'], movement = 'Arrival')\n",
    "\n",
    "    for n, n_data in H.nodes(data=True):\n",
    "        # Don't want to add an edge from 'Start' to 'End', 'End' to 'End' or\n",
    "        # 'Start' to 'Start'\n",
    "        if n == 'Start' or n == 'End':\n",
    "            continue\n",
    "\n",
    "        if path_query['leave_after'] == True:\n",
    "            # Cannot catch a train that has already left\n",
    "            if n_data['MinuteOfDay'] >= path_query['time']:\n",
    "\n",
    "                if path_query['From_StopPointName'] in n_data['StopPointName']:\n",
    "                    H.add_edge('Start', n, movement = 'Start',\n",
    "                               cost = n_data['MinuteOfDay'] - path_query['time'])\n",
    "\n",
    "                if path_query['To_StopPointName'] in n_data['StopPointName']:\n",
    "                    H.add_edge(n, 'End', movement = 'End', cost = 0)\n",
    "        \n",
    "        else:\n",
    "        \n",
    "            # No point catching a train that leaves after we want to arrive\n",
    "            if n_data['MinuteOfDay'] <= path_query['time']:\n",
    "\n",
    "                if path_query['From_StopPointName'] in n_data['StopPointName']:\n",
    "                    H.add_edge('Start', n, movement = 'Start', cost = 0)\n",
    "\n",
    "                if path_query['To_StopPointName'] in n_data['StopPointName']:\n",
    "                    H.add_edge(n, 'End', movement = 'End',\n",
    "                               cost = path_query['time'] - n_data['MinuteOfDay'])"
   ]
  },
  {
   "cell_type": "markdown",
   "metadata": {},
   "source": [
    "Next, due to the formulation of our network, the raw path result isn't going to be terribly pretty so we can define some conditions to print only the information an end-user wants to know; when to get on or off a train."
   ]
  },
  {
   "cell_type": "code",
   "execution_count": null,
   "metadata": {},
   "outputs": [],
   "source": [
    "def minutes_to_time(minutes_past_midnight):\n",
    "    \"\"\"\n",
    "        Reformat a decimal 'minutes past midnight' to a time string rounded to the nearest second\n",
    "    \"\"\"\n",
    "    hours, remainder = divmod(minutes_past_midnight * 60, 3600)\n",
    "    minutes, seconds = divmod(remainder, 60)\n",
    "    return '{:02.0f}:{:02.0f}:{:02.0f}'.format(hours, minutes, int(seconds))\n",
    "    \n",
    "\n",
    "def print_path(path):\n",
    "    \"\"\"\n",
    "        Iterate through a journey's shortest path and print only the relevant information\n",
    "        ie. When to board a train, change trains or leave a station\n",
    "    \"\"\"\n",
    "    for u,v in zip(path,path[1:]):\n",
    "        u_data = H.nodes(data=True)[u]\n",
    "        v_data = H.nodes(data=True)[v]\n",
    "        edge_data = H[u][v]\n",
    "        \n",
    "        # Starting information\n",
    "        if edge_data['movement'] == 'Start':\n",
    "            print('Start journey from {} at {}\\n'\\\n",
    "            .format(u_data['StopPointName'], minutes_to_time(v_data['MinuteOfDay'] - edge_data['cost'])))\n",
    "        \n",
    "        # Changing onto a train from waiting at a platform\n",
    "        elif previous_edge['movement'] == 'Start' or \\\n",
    "                (previous_edge['movement'] == 'Stay' and \\\n",
    "                 previous_edge['movement'] != edge_data['movement']):\n",
    "            print('Board the {:>7} line train from {} at {}'.format(edge_data['movement'], u_data['StopPointName'], minutes_to_time(u_data['MinuteOfDay'])))\n",
    "        \n",
    "        # Changing off a train from travelling through any number of stops\n",
    "        elif edge_data['movement'] != previous_edge['movement'] and edge_data['movement'] == 'Stay':\n",
    "            print('Disembark the {:>3} line train at {} at {}'.format(previous_edge['movement'], u_data['StopPointName'], minutes_to_time(u_data['MinuteOfDay'])))\n",
    "        \n",
    "        # Finishing information\n",
    "        elif edge_data['movement'] == 'End':\n",
    "            print('\\nFinish journey at {} at {}'.format(u_data['StopPointName'], minutes_to_time(u_data['MinuteOfDay'])))\n",
    "\n",
    "        previous_edge = edge_data"
   ]
  },
  {
   "cell_type": "markdown",
   "metadata": {},
   "source": [
    "Finally, putting this all together we can define a \"journey planner\" function.\n",
    "\n",
    "Running a query happens near-instantaneously as the network isn't very large even with the time-expanded formation as we have filtered down to one day. The SQL query to pull the Departures Board from the database is comparatively much slower."
   ]
  },
  {
   "cell_type": "code",
   "execution_count": null,
   "metadata": {},
   "outputs": [],
   "source": [
    "def plan_journey(path_query):\n",
    "    \"\"\"\n",
    "        Add Start and End nodes to the network temporarily based on `path_query`\n",
    "        Calculate and print shortest path\n",
    "        Remove Start and End nodes (along with any induced edges) to 'clean' network for next query\n",
    "    \"\"\"\n",
    "    setup_shortest_path(path_query)\n",
    "    path = nx.shortest_path(H, source='Start', target='End', weight='cost')\n",
    "    print_path(path)\n",
    "    H.remove_nodes_from(['Start', 'End'])"
   ]
  },
  {
   "cell_type": "code",
   "execution_count": null,
   "metadata": {
    "scrolled": true
   },
   "outputs": [],
   "source": [
    "# Liverpool St to Hyde Park leaving after 11pm\n",
    "plan_journey(path_query)"
   ]
  },
  {
   "cell_type": "code",
   "execution_count": null,
   "metadata": {},
   "outputs": [],
   "source": [
    "# Arrive before 11pm\n",
    "path_query['leave_after'] = False\n",
    "plan_journey(path_query)"
   ]
  },
  {
   "cell_type": "code",
   "execution_count": null,
   "metadata": {
    "scrolled": false
   },
   "outputs": [],
   "source": [
    "# Heathrow to Canada Water leaving after 7:40:58pm\n",
    "path_query['leave_after'] = True\n",
    "path_query['From_StopPointName'] = 'Heathrow'\n",
    "path_query['To_StopPointName'] = 'Canada Water'\n",
    "path_query['time'] = 19.683 * 60\n",
    "plan_journey(path_query)"
   ]
  },
  {
   "cell_type": "markdown",
   "metadata": {},
   "source": [
    "In the event that you have to wait an extra four seconds for your baggage to appear at the carousel\n",
    "you'll want to take the District and Victoria lines instead of just the Jubilee line..."
   ]
  },
  {
   "cell_type": "code",
   "execution_count": null,
   "metadata": {},
   "outputs": [],
   "source": [
    "# Heathrow to Canada Water leaving after 7:41:02pm\n",
    "path_query['time'] = 19.684 * 60\n",
    "plan_journey(path_query)"
   ]
  },
  {
   "cell_type": "markdown",
   "metadata": {},
   "source": [
    "...and just in case it wasn't already clear from a geographically accurate tube map..."
   ]
  },
  {
   "cell_type": "code",
   "execution_count": null,
   "metadata": {
    "scrolled": true
   },
   "outputs": [],
   "source": [
    "path_query['time'] = 19.66 * 60\n",
    "path_query['From_StopPointName'] = 'Paddington'\n",
    "path_query['To_StopPointName'] = 'Bond'\n",
    "plan_journey(path_query)"
   ]
  },
  {
   "cell_type": "markdown",
   "metadata": {},
   "source": [
    "Finally we can compare this result with the official TfL Journey Planner:"
   ]
  },
  {
   "cell_type": "code",
   "execution_count": null,
   "metadata": {},
   "outputs": [],
   "source": [
    "import requests, json\n",
    "paddington, bondst, = 1000174, 1000025\n",
    "date, time = 20180115, 1941 # time is approximate since the actual Departure Time in the query result is 1940\n",
    "query = \"https://api.tfl.gov.uk/Journey/JourneyResults/\" +\n",
    "        \"{}/to/{}?date={}&time={}\" +\n",
    "        \"&timeIs=Departing&journeyPreference=LeastTime\"\n",
    "query = query.format(paddington, bondst, date, time)\n",
    "result = json.loads(requests.get(query).content)\n",
    "best_journey = result['journeys'][0]"
   ]
  },
  {
   "cell_type": "code",
   "execution_count": null,
   "metadata": {},
   "outputs": [],
   "source": [
    "print('Deparure Time: ', best_journey['startDateTime'])\n",
    "print('Leg 1: ', best_journey['legs'][0]['instruction']['summary'])\n",
    "print('Leg 2: ', best_journey['legs'][1]['instruction']['summary'])\n",
    "print('Arrival Time: ', best_journey['arrivalDateTime'])"
   ]
  },
  {
   "cell_type": "markdown",
   "metadata": {},
   "source": [
    "This simple Journey Planner algorithm has provided the same finish time and route as the official TfL API!"
   ]
  },
  {
   "cell_type": "markdown",
   "metadata": {},
   "source": [
    "# Trains Moving Throughout the Network\n",
    "\n",
    "The most complex visualisations of spatiotemporal data involve trying to look at\n",
    "the space and time dimensions simultaneously. The interactive javascript tube map seen\n",
    "earlier is a good way to visualise a static representation of the network however since\n",
    "we are working with timetable data which inheritantly contains the *movement of trains over time*\n",
    "then the final step would be to plot these train movements over time.\n",
    "\n",
    "For the final section of the project, we will look at visualising the movement of tube vehicles\n",
    "across a map of central London over the course of a day.\n",
    "\n",
    "Begin by choosing the date of timetables we want to visualise:"
   ]
  },
  {
   "cell_type": "code",
   "execution_count": null,
   "metadata": {},
   "outputs": [],
   "source": [
    "timetable_date = '2017-12-20'"
   ]
  },
  {
   "cell_type": "markdown",
   "metadata": {},
   "source": [
    "We'll need to use our tube line graph `G` from the Tube Map section so ensure that is loaded first.\n",
    "The Departures Board query from the Shortest Path section is also needed however this time the whole table is\n",
    "to be loaded into a DataFrame.\n",
    "\n",
    "Annoyingly `pandas` requires that every column be explicitly listed however this is much faster than the alternative of adding an SQLAlcehmy layer."
   ]
  },
  {
   "cell_type": "code",
   "execution_count": null,
   "metadata": {},
   "outputs": [],
   "source": [
    "import pandas as pd\n",
    "\n",
    "conn = psycopg2.connect(host=\"localhost\", database=\"londontubepython\", user=\"postgres\", password=\"mysecretpassword\")\n",
    "cur = conn.cursor()\n",
    "cur.execute('SELECT * FROM departureboard(%s)', (timetable_date,))\n",
    "\n",
    "df = pd.DataFrame(cur.fetchall(), columns=['VehicleJourneyCode', 'Line', 'From_VehicleSequenceNumber',\n",
    "'From_StopPointRef', 'From_StopPointName', 'From_Longitude', 'From_Latitude', 'To_VehicleSequenceNumber',\n",
    "'To_StopPointRef', 'To_StopPointName', 'To_Longitude', 'To_Latitude', 'JourneyTime', 'DepartureMins_Link',\n",
    "'ArrivalMins_Link', 'Flag_LastStop'])"
   ]
  },
  {
   "cell_type": "markdown",
   "metadata": {},
   "source": [
    "The problem with the structure of the Departures Board query is that it's returned a dataset where every row\n",
    "constitutes the departure of a train from any station. In order to plot the train movements we need to know\n",
    "where they are *between* departures *continuously*. One train may leave one station at say 7:00pm and not arrive at the next station for 5 minutes meanwhile another train has visited three stations in that time.\n",
    "\n",
    "This can be solved by pivotting the dataset from the point of view of a *train time of departure* to a\n",
    "*train location by time*.\n",
    "\n",
    "Pivotting in this manner means that we need to choose a sampling frequency for the train location\n",
    "calculation. The dataset is already rounded to the nearest 60 seconds however some tube links only\n",
    "take 60 seconds to travel between which would cause the resulting animation to show trains teleporting\n",
    "between stations. Two clever values are to sample every 12 or 20 seconds because then two trains approaching\n",
    "each other from two stops that are 60 seconds apart won't overlap on the plot.\n",
    "\n",
    "The other consideration when pivotting is that the dataset doesn't include the location of the terminus.\n",
    "The final row of a vehicle is the departure time of the penultimate stop with the arrival time of the terminus.\n",
    "Therefore we also need to pull out all these termini, shift the columns to align with the departures and \n",
    "append them onto the departures table.\n"
   ]
  },
  {
   "cell_type": "code",
   "execution_count": null,
   "metadata": {},
   "outputs": [],
   "source": [
    "# Select required columns\n",
    "df_expanded = df[['VehicleJourneyCode', 'Line', 'Flag_LastStop', 'DepartureMins_Link', 'ArrivalMins_Link',\n",
    "                  'From_Longitude', 'From_Latitude', 'To_Longitude', 'To_Latitude']]\n",
    "\n",
    "# Subset to the last trip link of each vehicle and rename the \"arrival\" columns to be \"departure\" columns\n",
    "# to allow for automatic concatenation by column name\n",
    "columns_to_shift = {'ArrivalMins_Link':'DepartureMins_Link',\n",
    "                    'To_Longitude':'From_Longitude',\n",
    "                    'To_Latitude':'From_Latitude'}\n",
    "df_laststop = df_expanded.loc[df_expanded['Flag_LastStop'] == True].drop(columns_to_shift.values(), axis=1)\n",
    "df_laststop.rename(columns = columns_to_shift, inplace = True)\n",
    "df_expanded = pd.concat([df_expanded.drop(columns_to_shift.keys(), axis=1), df_laststop])\n",
    "\n",
    "# Cast the \"DepartureMins_Link\" column to be a TimeDelta object and set it as a MultiIndex with \"VehicleJourneyCode\"\n",
    "df_expanded = df_expanded.set_index(pd.to_timedelta((df_expanded['DepartureMins_Link']).astype('int'), unit='m'))\n",
    "df_expanded = df_expanded.groupby('VehicleJourneyCode')"
   ]
  },
  {
   "cell_type": "code",
   "execution_count": null,
   "metadata": {},
   "outputs": [],
   "source": [
    "def resample_vehicle_departures(df_expanded, sample_freq):\n",
    "    \"\"\"\n",
    "        Input a DataFrame with a MultiIndex of VehicleJourneyCode with DepartureMins_Link\n",
    "        Resample the time dimension for each vehicle every `sample_freq` seconds\n",
    "        Interpolate vehicle location for the new sample_freq.\n",
    "    \"\"\"\n",
    "    # Expand the trip start and end times of every \"VehicleJourneyCode\" by sample_freq seconds\n",
    "    df_resampled = df_expanded.resample(str(sample_freq) + 'S').asfreq()\n",
    "    \n",
    "    # Fill in the Line for each vehicle\n",
    "    df_resampled['Line'] = df_resampled['Line'].ffill().bfill()\n",
    "    \n",
    "    # Linearly interpolate the Latitude and Longitude\n",
    "    df_resampled = df_resampled.interpolate(method='linear')\n",
    "    \n",
    "    # Drop unneeded columns\n",
    "    df_resampled = df_resampled.drop(['VehicleJourneyCode', 'DepartureMins_Link', 'Flag_LastStop'], 1)\n",
    "    df_resampled = df_resampled.reset_index()\n",
    "\n",
    "    return df_resampled"
   ]
  },
  {
   "cell_type": "code",
   "execution_count": null,
   "metadata": {},
   "outputs": [],
   "source": [
    "sample_freq = 20 # interpolate the vehicle location every sample_freq seconds\n",
    "df_resampled = resample_vehicle_departures(df_expanded, sample_freq)"
   ]
  },
  {
   "cell_type": "code",
   "execution_count": null,
   "metadata": {},
   "outputs": [],
   "source": [
    "# Show vehicle positions as at 12:03:40\n",
    "h,m,s = 12,3,20\n",
    "assert s % sample_freq == 0 # seconds are a multiple of sample_freq otherwise no data returned\n",
    "time = pd.to_timedelta((h*60 + m)*60 + s, unit='s')\n",
    "df_resampled.loc[df_resampled['DepartureMins_Link'] == time].head()"
   ]
  },
  {
   "cell_type": "markdown",
   "metadata": {},
   "source": [
    "This dataset is now in the perfect structure for finding the exact location of any vehicle for any discrete\n",
    "point in time by subsetting on the `DepartureMins_Link` column."
   ]
  },
  {
   "cell_type": "markdown",
   "metadata": {},
   "source": [
    "For the animation we'll need a few additional packages in addition to `matplotlib.animation`.\n",
    "The `smopy` module provides the OpenStreetMap\n",
    "tile which we'll be plotting on, `numpy` provides a useful function `np.c_` for concatenating series and\n",
    "`IPython` purely for displaying the final product in Jupyter."
   ]
  },
  {
   "cell_type": "code",
   "execution_count": null,
   "metadata": {},
   "outputs": [],
   "source": [
    "import smopy\n",
    "import numpy as np\n",
    "from matplotlib import animation\n",
    "from matplotlib import pyplot as plt\n",
    "from IPython.display import HTML, Image\n",
    "%matplotlib inline"
   ]
  },
  {
   "cell_type": "markdown",
   "metadata": {},
   "source": [
    "Firstly, set the start and finish times of the animation."
   ]
  },
  {
   "cell_type": "code",
   "execution_count": null,
   "metadata": {},
   "outputs": [],
   "source": [
    "# Set the animation start time in minutes past midnight\n",
    "start_time = 5.5 * 60 # 5:30am\n",
    "end_time = 8 * 60 # 8:00am"
   ]
  },
  {
   "cell_type": "markdown",
   "metadata": {},
   "source": [
    "The `create_train_timetable_animation` function consists of four parts:\n",
    "1. Setting up the base layer of the plot\n",
    "2. Defining the initial state of the animation in `init`\n",
    "3. Defining what each sequential frame of the animation looks like for a given frame number `i` with `animate`\n",
    "4. Returning the `FuncAnimation` object for a given number of frames calculated from the\n",
    "`start_time`, `end_time` and `sample_freq`\n",
    "\n",
    "The first part downloads the same OSM layer we used for the Tube Network previously but using `smopy`\n",
    "and then defines the region of interest as central London. Then setup the plot area, add the map layer\n",
    "and plot an empty scatter plot with an empty annotation. The scatter will show the locations of each train\n",
    "and the annotation will tell us the time of day for that frame.\n",
    "\n",
    "The `init` function is just a replica of the Tube Map plot as this will be part of the base layer with\n",
    "a change to the `alpha` level to make it more faint.\n",
    "\n",
    "The `animate` function takes a frame number as input, calculates the current time using the `start time`\n",
    "and `sample_freq` and subsets `df_resampled` to the vehicle positions at that time. Finally we map the\n",
    "latitude and longitude coordinates to pixel positions on the plot, map the tube line to an RGB colour\n",
    "and plot!"
   ]
  },
  {
   "cell_type": "code",
   "execution_count": null,
   "metadata": {},
   "outputs": [],
   "source": [
    "def convert_to_time(timedelta):\n",
    "    \"\"\"\n",
    "        Convert timedelta object to an (H,M,S) tuple\n",
    "    \"\"\"\n",
    "    hours, remainder = divmod(timedelta.seconds, 3600)\n",
    "    minutes, seconds = divmod(remainder, 60)\n",
    "    return hours, minutes, seconds\n",
    "\n",
    "def create_train_timetable_animation(start_time, end_time):\n",
    "    \"\"\"\n",
    "        Returns an animation object plotting the movement of trains across\n",
    "        a map of central London between start_time and end_time\n",
    "    \"\"\"\n",
    "    # Setup\n",
    "    smopy.TILE_SERVER = \"http://tile.basemaps.cartocdn.com/light_all/{z}/{x}/{y}@2x.png\"\n",
    "    smopy.TILE_SIZE = 512\n",
    "\n",
    "    # Set map bounds around central London\n",
    "    map = smopy.Map((51.45, -0.3, 51.55, -0.05), z = 12);\n",
    "\n",
    "    # Setup plot\n",
    "    ax = map.show_mpl(figsize=(15, 15));\n",
    "\n",
    "    x, y, c = [],[],[]\n",
    "    scat = ax.scatter(x=x,y=y,c=c,s=12)\n",
    "    current_time = ax.text(35, 70, s='', fontsize=18)\n",
    "\n",
    "    def init():\n",
    "        \"\"\"\n",
    "            Background of each frame to be cached\n",
    "        \"\"\"\n",
    "        options['alpha'] = 0.2\n",
    "        pos = {node: map.to_pixels(data['lat'], data['lon']) for node, data in G.nodes(data=True)}\n",
    "        nx.draw_networkx_edges(G, pos = pos, **options);\n",
    "        scat.set_offsets([]);\n",
    "        current_time.set_text('');\n",
    "        return scat,current_time\n",
    "\n",
    "    seconds_in_minute = 60\n",
    "    minutes_to_animate = end_time - start_time\n",
    "    def animate(i):\n",
    "        \"\"\"\n",
    "            Returns animation state for a given frame i\n",
    "        \"\"\"\n",
    "        # Calculate the time (in seconds past midnight) of the frame number\n",
    "        # by using the sample_freq of df_resampled\n",
    "        time_now = start_time * seconds_in_minute + i * sample_freq\n",
    "\n",
    "        # Cast time to a timedelta object and subset df_resampled\n",
    "        time_td = pd.to_timedelta(time_now, unit='s')\n",
    "        df_now = df_resampled.loc[df_resampled['DepartureMins_Link'] == time_td]\n",
    "\n",
    "        # Map lat, lon and colours\n",
    "        x_pixel, y_pixel = map.to_pixels(df_now['From_Latitude'], df_now['From_Longitude'])\n",
    "        frame_colouring = df_now['Line'].map(line_colours)\n",
    "\n",
    "        # Plot frame\n",
    "        scat.set_offsets(np.c_[x_pixel, y_pixel])\n",
    "        scat.set_color(frame_colouring)\n",
    "        current_time.set_text('{:02d}:{:02d}:{:02d}'.format(*convert_to_time(time_td)))\n",
    "\n",
    "        return scat,current_time\n",
    "\n",
    "    # Animate with the number of frames calculated from start_time, end_time and sample_freq\n",
    "    # blit = True means only re-draw the parts that have changed\n",
    "    anim = animation.FuncAnimation(fig, animate, init_func=init, interval=60, blit=True,\n",
    "                                   frames = int(minutes_to_animate*(seconds_in_minute/sample_freq)));\n",
    "    return anim"
   ]
  },
  {
   "cell_type": "markdown",
   "metadata": {},
   "source": [
    "To see this is action, let's look at three key periods of the day.\n",
    "\n",
    "First thing in the morning..."
   ]
  },
  {
   "cell_type": "code",
   "execution_count": null,
   "metadata": {},
   "outputs": [],
   "source": [
    "# 4:45am to 7:00am\n",
    "start_time, end_time = 4.75 * 60, 7 * 60\n",
    "anim_early = create_train_timetable_animation(start_time, end_time);\n",
    "anim_early.save('anim_early.mp4', writer='ffmpeg');"
   ]
  },
  {
   "cell_type": "code",
   "execution_count": null,
   "metadata": {},
   "outputs": [],
   "source": [
    "%%HTML\n",
    "<video width=\"700\" height=\"700\" controls>\n",
    "  <source src=\"anim_early.mp4\" type=\"video/mp4\">\n",
    "</video>"
   ]
  },
  {
   "cell_type": "markdown",
   "metadata": {},
   "source": [
    "... peak hour in the afternoon ..."
   ]
  },
  {
   "cell_type": "code",
   "execution_count": null,
   "metadata": {},
   "outputs": [],
   "source": [
    "# 5:30pm to 6:30pm\n",
    "start_time, end_time = 17.5 * 60, 18.5 * 60\n",
    "anim_peak = create_train_timetable_animation(start_time, end_time);\n",
    "anim_peak.save('anim_peak.mp4', writer='ffmpeg');"
   ]
  },
  {
   "cell_type": "code",
   "execution_count": null,
   "metadata": {},
   "outputs": [],
   "source": [
    "%%HTML\n",
    "<video width=\"700\" height=\"700\" controls>\n",
    "  <source src=\"anim_peak.mp4\" type=\"video/mp4\">\n",
    "</video>"
   ]
  },
  {
   "cell_type": "markdown",
   "metadata": {},
   "source": [
    "... and last thing at night."
   ]
  },
  {
   "cell_type": "code",
   "execution_count": null,
   "metadata": {},
   "outputs": [],
   "source": [
    "# 11:30pm to 1:30am\n",
    "start_time, end_time = 23.5 * 60, 25 * 60\n",
    "anim_late = create_train_timetable_animation(start_time, end_time);\n",
    "anim_late.save('anim_late.mp4', writer='ffmpeg');"
   ]
  },
  {
   "cell_type": "code",
   "execution_count": null,
   "metadata": {},
   "outputs": [],
   "source": [
    "%%HTML\n",
    "<video width=\"700\" height=\"700\" controls>\n",
    "  <source src=\"anim_late.mp4\" type=\"video/mp4\">\n",
    "</video>"
   ]
  },
  {
   "cell_type": "markdown",
   "metadata": {},
   "source": [
    "In this last plot, the timedelta object will handle the `end_time` wrapping to the next day because it converts it back to the start of our dataset. There's no jump in any of the train positions at midnight because the timetable for the\n",
    "21st December is probably identical to 20th December with them both being weekdays. It may be a different story if plotting a Sunday night into a Monday morning.\n",
    "\n",
    "Of course, if you really wanted, you could sit and watch an entire day of train movements compressed into 4 minutes..."
   ]
  },
  {
   "cell_type": "code",
   "execution_count": null,
   "metadata": {},
   "outputs": [],
   "source": [
    "%%HTML\n",
    "<video width=\"900\" height=\"800\" controls>\n",
    "  <source src=\"tube_animation.mp4\" type=\"video/mp4\">\n",
    "</video>"
   ]
  }
 ],
 "metadata": {
  "kernelspec": {
   "display_name": "Python 3",
   "language": "python",
   "name": "python3"
  },
  "language_info": {
   "codemirror_mode": {
    "name": "ipython",
    "version": 3
   },
   "file_extension": ".py",
   "mimetype": "text/x-python",
   "name": "python",
   "nbconvert_exporter": "python",
   "pygments_lexer": "ipython3",
   "version": "3.6.3"
  }
 },
 "nbformat": 4,
 "nbformat_minor": 2
}
